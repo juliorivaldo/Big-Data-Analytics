{
 "cells": [
  {
   "cell_type": "code",
   "execution_count": 1,
   "id": "7fdfc52a",
   "metadata": {},
   "outputs": [
    {
     "name": "stdout",
     "output_type": "stream",
     "text": [
      "(0, 1, 2, 3)\n"
     ]
    }
   ],
   "source": [
    "A = (0,1,2,3)\n",
    "print(A)"
   ]
  },
  {
   "cell_type": "code",
   "execution_count": 3,
   "id": "4febc0c8",
   "metadata": {},
   "outputs": [
    {
     "name": "stdout",
     "output_type": "stream",
     "text": [
      "(0, 1)\n"
     ]
    }
   ],
   "source": [
    "print(A[0:2])\n"
   ]
  },
  {
   "cell_type": "code",
   "execution_count": 4,
   "id": "845a3ff4",
   "metadata": {},
   "outputs": [
    {
     "name": "stdout",
     "output_type": "stream",
     "text": [
      "['a', 'b']\n",
      "A\n"
     ]
    }
   ],
   "source": [
    "B=[\"a\",\"b\",\"c\"]\n",
    "print(B[0:2])\n",
    "print(B[0].upper())"
   ]
  },
  {
   "cell_type": "code",
   "execution_count": 5,
   "id": "294de34b",
   "metadata": {},
   "outputs": [
    {
     "name": "stdout",
     "output_type": "stream",
     "text": [
      "hard rock\n",
      "('hard rock', 'soft rock', 'R&B')\n",
      "('pop', 'rock')\n",
      "7\n"
     ]
    }
   ],
   "source": [
    "genres_tuple = (\"pop\", \"rock\", \"soul\", \"hard rock\", \"soft rock\", \\\n",
    "                \"R&B\", \"progressive rock\", \"disco\") \n",
    "len(genres_tuple) \n",
    "print(genres_tuple[3])\n",
    "print(genres_tuple[3:6])\n",
    "print(genres_tuple[0:2])\n",
    "print(genres_tuple.index(\"disco\"))"
   ]
  },
  {
   "cell_type": "code",
   "execution_count": 6,
   "id": "20f113c4",
   "metadata": {},
   "outputs": [
    {
     "name": "stdout",
     "output_type": "stream",
     "text": [
      "[-5, -3, 1]\n"
     ]
    }
   ],
   "source": [
    "C_tuple = (-5, 1, -3)\n",
    "sorted_list = sorted(C_tuple)\n",
    "print(sorted_list)"
   ]
  },
  {
   "cell_type": "code",
   "execution_count": 7,
   "id": "b09c03bb",
   "metadata": {},
   "outputs": [
    {
     "data": {
      "text/plain": [
       "{'A', 'B', 'C'}"
      ]
     },
     "execution_count": 7,
     "metadata": {},
     "output_type": "execute_result"
    }
   ],
   "source": [
    "set(['A','B','C','A','B','C'])"
   ]
  },
  {
   "cell_type": "code",
   "execution_count": 8,
   "id": "5fa95d63",
   "metadata": {},
   "outputs": [
    {
     "name": "stdout",
     "output_type": "stream",
     "text": [
      "{'C', 'B', 'A', 'D'}\n"
     ]
    }
   ],
   "source": [
    "S={'A','B','C'}\n",
    "S.add('D')\n",
    "print(S)"
   ]
  },
  {
   "cell_type": "code",
   "execution_count": 9,
   "id": "020b9b98",
   "metadata": {},
   "outputs": [
    {
     "name": "stdout",
     "output_type": "stream",
     "text": [
      "{1, 3}\n"
     ]
    }
   ],
   "source": [
    "A={1,2,3,4,5}\n",
    "B={1,3,9, 12}\n",
    "print(A.intersection(B))"
   ]
  },
  {
   "cell_type": "code",
   "execution_count": 11,
   "id": "8cab71a3",
   "metadata": {},
   "outputs": [
    {
     "name": "stdout",
     "output_type": "stream",
     "text": [
      "false\n"
     ]
    }
   ],
   "source": [
    "A = [1, 2, 2, 1]  \n",
    "B = set([1, 2, 2, 1])\n",
    "if sum(A) == sum(B) :\n",
    "    print('true')\n",
    "else:\n",
    "    print('false')"
   ]
  },
  {
   "cell_type": "code",
   "execution_count": 12,
   "id": "7596c4e5",
   "metadata": {},
   "outputs": [
    {
     "name": "stdout",
     "output_type": "stream",
     "text": [
      "{'Thriller', 'AC/DC', 'The Dark Side of the Moon', 'Back in Black'}\n"
     ]
    }
   ],
   "source": [
    "album_set1 = set([\"Thriller\", 'AC/DC', 'Back in Black'])\n",
    "album_set2 = set([ \"AC/DC\", \"Back in Black\", \"The Dark Side of the Moon\"])\n",
    "album_set3 = album_set1.union(album_set2)\n",
    "print(album_set3)"
   ]
  },
  {
   "cell_type": "code",
   "execution_count": 13,
   "id": "436064eb",
   "metadata": {},
   "outputs": [
    {
     "name": "stdout",
     "output_type": "stream",
     "text": [
      "true\n"
     ]
    }
   ],
   "source": [
    "album_set1 = set([\"Thriller\", 'AC/DC', 'Back in Black'])\n",
    "album_set2 = set([ \"AC/DC\", \"Back in Black\", \"The Dark Side of the Moon\"])\n",
    "album_set3 = album_set1.union(album_set2)\n",
    "if album_set1.issubset(album_set3) :\n",
    "    print('true')\n",
    "else:\n",
    "    print('false')"
   ]
  },
  {
   "cell_type": "code",
   "execution_count": 14,
   "id": "6ff33077",
   "metadata": {},
   "outputs": [
    {
     "name": "stdout",
     "output_type": "stream",
     "text": [
      "{'a': 0, 'b': 1, 'c': 2}\n",
      "0\n",
      "dict_keys(['a', 'b', 'c'])\n"
     ]
    }
   ],
   "source": [
    "D={'a':0,'b':1,'c':2}\n",
    "print(D)\n",
    "print(D[\"a\"])\n",
    "print(D.keys())"
   ]
  },
  {
   "cell_type": "code",
   "execution_count": 15,
   "id": "5b79a3d0",
   "metadata": {},
   "outputs": [
    {
     "name": "stdout",
     "output_type": "stream",
     "text": [
      "dict_keys(['The Bodyguard', 'Saturday Night Fever'])\n",
      "dict_values(['1992', '1977'])\n"
     ]
    }
   ],
   "source": [
    "# Write your code below and press Shift+Enter to execute\n",
    "soundtrack_dic = {\"The Bodyguard\":\"1992\", \"Saturday Night Fever\":\"1977\"}\n",
    "print(soundtrack_dic.keys())\n",
    "print(soundtrack_dic.values())"
   ]
  },
  {
   "cell_type": "code",
   "execution_count": 17,
   "id": "7b12a789",
   "metadata": {},
   "outputs": [
    {
     "name": "stdout",
     "output_type": "stream",
     "text": [
      "65\n",
      "dict_keys(['The Albums Back in Black', 'The Bodyguard', 'Thriller'])\n",
      "dict_values([50, 50, 65])\n"
     ]
    }
   ],
   "source": [
    "album_sales_dict = {\"The Albums Back in Black\": 50,\"The Bodyguard\":50, \"Thriller\":65}\n",
    "print(album_sales_dict[\"Thriller\"])\n",
    "print(album_sales_dict.keys())\n",
    "print(album_sales_dict.values())"
   ]
  },
  {
   "cell_type": "code",
   "execution_count": null,
   "id": "986d0ce2",
   "metadata": {},
   "outputs": [],
   "source": []
  }
 ],
 "metadata": {
  "kernelspec": {
   "display_name": "Python 3",
   "language": "python",
   "name": "python3"
  },
  "language_info": {
   "codemirror_mode": {
    "name": "ipython",
    "version": 3
   },
   "file_extension": ".py",
   "mimetype": "text/x-python",
   "name": "python",
   "nbconvert_exporter": "python",
   "pygments_lexer": "ipython3",
   "version": "3.8.8"
  }
 },
 "nbformat": 4,
 "nbformat_minor": 5
}
